{
 "cells": [
  {
   "cell_type": "code",
   "execution_count": 1,
   "id": "104da878-6381-4457-9dff-d0ba5078ba1b",
   "metadata": {},
   "outputs": [
    {
     "name": "stdout",
     "output_type": "stream",
     "text": [
      "      CreditScore  Age  Tenure    Balance  NumOfProducts  HasCrCard  \\\n",
      "2151          753   57       7       0.00              1          1   \n",
      "8392          739   32       3  102128.27              1          1   \n",
      "5006          755   37       0  113865.23              2          1   \n",
      "4117          561   37       5       0.00              2          1   \n",
      "7182          692   49       6  110540.43              2          0   \n",
      "...           ...  ...     ...        ...            ...        ...   \n",
      "4555          688   35       6       0.00              1          1   \n",
      "4644          712   74       5       0.00              2          0   \n",
      "8942          667   37       9   71786.90              2          1   \n",
      "2935          687   35       8  100988.39              2          1   \n",
      "6206          802   51       7       0.00              1          0   \n",
      "\n",
      "      IsActiveMember  EstimatedSalary  Geography_Germany  Geography_Spain  \\\n",
      "2151               0        159475.08              False            False   \n",
      "8392               0         63981.37               True            False   \n",
      "5006               1        117396.25               True            False   \n",
      "4117               0         83093.25              False            False   \n",
      "7182               1        107472.99               True            False   \n",
      "...              ...              ...                ...              ...   \n",
      "4555               0         25488.43              False             True   \n",
      "4644               0        151425.82              False             True   \n",
      "8942               1         67734.79              False            False   \n",
      "2935               0         22247.27              False             True   \n",
      "6206               1         40855.79              False             True   \n",
      "\n",
      "      Gender_Male  \n",
      "2151         True  \n",
      "8392         True  \n",
      "5006        False  \n",
      "4117         True  \n",
      "7182         True  \n",
      "...           ...  \n",
      "4555        False  \n",
      "4644         True  \n",
      "8942        False  \n",
      "2935         True  \n",
      "6206         True  \n",
      "\n",
      "[8000 rows x 11 columns]\n",
      "Model: \"sequential\"\n",
      "_________________________________________________________________\n",
      " Layer (type)                Output Shape              Param #   \n",
      "=================================================================\n",
      " dense (Dense)               (None, 128)               1536      \n",
      "                                                                 \n",
      " dense_1 (Dense)             (None, 128)               16512     \n",
      "                                                                 \n",
      " dense_2 (Dense)             (None, 1)                 129       \n",
      "                                                                 \n",
      "=================================================================\n",
      "Total params: 18177 (71.00 KB)\n",
      "Trainable params: 18177 (71.00 KB)\n",
      "Non-trainable params: 0 (0.00 Byte)\n",
      "_________________________________________________________________\n"
     ]
    }
   ],
   "source": [
    "import numpy as np\n",
    "import pandas as pd\n",
    "import matplotlib.pyplot as plt\n",
    "import seaborn as sns\n",
    "\n",
    "dataset = pd.read_csv('churndataset.csv')\n",
    "x = dataset.iloc[:,3:-1]\n",
    "y = dataset['Exited']\n",
    "dataset['Exited'].value_counts()\n",
    "dataset\n",
    "\n",
    "from sklearn.model_selection import train_test_split\n",
    "from sklearn.preprocessing import StandardScaler\n",
    "\n",
    "x_onehot = pd.get_dummies(x, drop_first = True)\n",
    "x_train, x_test, y_train, y_test = train_test_split(x_onehot,y,test_size=0.2,random_state=42, stratify=y)\n",
    "print(x_train)\n",
    "x_train.describe()\n",
    "\n",
    "scaler = StandardScaler()\n",
    "x_train = scaler.fit_transform(x_train)\n",
    "x_test = scaler.transform(x_test)\n",
    "\n",
    "import tensorflow as tf\n",
    "from tensorflow import keras\n",
    "from tensorflow.keras import Sequential\n",
    "from tensorflow.keras.layers import Flatten, Dense, InputLayer\n",
    "\n",
    "from tensorflow.keras.optimizers import Adam\n",
    "\n",
    "input_shape = x_train.shape[1:]\n",
    "class_weight = y.value_counts().to_dict()\n",
    "total_sample = sum(class_weight.values())\n",
    "class_weight = [total_sample/(len(class_weight)*class_weight[0]), total_sample/(len(class_weight)*class_weight[1])]\n",
    "class_weight\n",
    "\n",
    "model = Sequential()\n",
    "model.add(InputLayer(input_shape))\n",
    "model.add(Dense(128, activation = 'relu'))\n",
    "model.add(Dense(128, activation = 'relu'))\n",
    "model.add(Dense(1, activation = 'sigmoid'))\n",
    "\n",
    "model.summary()"
   ]
  },
  {
   "cell_type": "code",
   "execution_count": 3,
   "id": "ced8fc9e-96af-4eaf-942a-4991a07eaf64",
   "metadata": {},
   "outputs": [
    {
     "data": {
      "text/plain": [
       "Index(['RowNumber', 'CustomerId', 'Surname', 'CreditScore', 'Geography',\n",
       "       'Gender', 'Age', 'Tenure', 'Balance', 'NumOfProducts', 'HasCrCard',\n",
       "       'IsActiveMember', 'EstimatedSalary', 'Exited'],\n",
       "      dtype='object')"
      ]
     },
     "execution_count": 3,
     "metadata": {},
     "output_type": "execute_result"
    }
   ],
   "source": [
    "dataset.columns"
   ]
  },
  {
   "cell_type": "code",
   "execution_count": 3,
   "id": "21ae1678-d51a-47c0-9b3c-4fcaf1f9a111",
   "metadata": {},
   "outputs": [
    {
     "name": "stdout",
     "output_type": "stream",
     "text": [
      "Epoch 1/10\n",
      "250/250 [==============================] - 2s 3ms/step - loss: 0.5501 - accuracy: 0.7240\n",
      "Epoch 2/10\n",
      "250/250 [==============================] - 1s 3ms/step - loss: 0.4796 - accuracy: 0.7726\n",
      "Epoch 3/10\n",
      "250/250 [==============================] - 1s 3ms/step - loss: 0.4623 - accuracy: 0.7883\n",
      "Epoch 4/10\n",
      "250/250 [==============================] - 1s 3ms/step - loss: 0.4542 - accuracy: 0.7916\n",
      "Epoch 5/10\n",
      "250/250 [==============================] - 1s 3ms/step - loss: 0.4484 - accuracy: 0.7926\n",
      "Epoch 6/10\n",
      "250/250 [==============================] - 1s 3ms/step - loss: 0.4410 - accuracy: 0.7984\n",
      "Epoch 7/10\n",
      "250/250 [==============================] - 1s 3ms/step - loss: 0.4366 - accuracy: 0.8002\n",
      "Epoch 8/10\n",
      "250/250 [==============================] - 1s 3ms/step - loss: 0.4314 - accuracy: 0.8005\n",
      "Epoch 9/10\n",
      "250/250 [==============================] - 1s 3ms/step - loss: 0.4276 - accuracy: 0.8121\n",
      "Epoch 10/10\n",
      "250/250 [==============================] - 1s 3ms/step - loss: 0.4220 - accuracy: 0.8101\n"
     ]
    },
    {
     "data": {
      "text/plain": [
       "{'loss': [0.550070583820343,\n",
       "  0.4796008765697479,\n",
       "  0.4623362421989441,\n",
       "  0.45424193143844604,\n",
       "  0.4483649730682373,\n",
       "  0.4409571588039398,\n",
       "  0.4365663528442383,\n",
       "  0.43144911527633667,\n",
       "  0.4275796115398407,\n",
       "  0.42202362418174744],\n",
       " 'accuracy': [0.7239999771118164,\n",
       "  0.7726250290870667,\n",
       "  0.7882500290870667,\n",
       "  0.7916250228881836,\n",
       "  0.7926250100135803,\n",
       "  0.7983750104904175,\n",
       "  0.8002499938011169,\n",
       "  0.8004999756813049,\n",
       "  0.812125027179718,\n",
       "  0.8101249933242798]}"
      ]
     },
     "execution_count": 3,
     "metadata": {},
     "output_type": "execute_result"
    }
   ],
   "source": [
    "model.compile(optimizer = Adam(learning_rate = 0.001), loss = 'binary_crossentropy', metrics = ['accuracy'])\n",
    "\n",
    "class_weight = {0 : 0.6279040562602034, 1 : 2.454590083456063}\n",
    "class_weight\n",
    "\n",
    "history = model.fit(x_train, y_train, batch_size = 32, epochs = 10, class_weight = class_weight)\n",
    "\n",
    "history.history\n"
   ]
  },
  {
   "cell_type": "code",
   "execution_count": 4,
   "id": "a683c653-72f4-4446-b014-ab99a64d96df",
   "metadata": {},
   "outputs": [
    {
     "name": "stdout",
     "output_type": "stream",
     "text": [
      "Model: \"sequential_1\"\n",
      "_________________________________________________________________\n",
      " Layer (type)                Output Shape              Param #   \n",
      "=================================================================\n",
      " dense_3 (Dense)             (None, 128)               1536      \n",
      "                                                                 \n",
      " dense_4 (Dense)             (None, 128)               16512     \n",
      "                                                                 \n",
      " dense_5 (Dense)             (None, 1)                 129       \n",
      "                                                                 \n",
      "=================================================================\n",
      "Total params: 18177 (71.00 KB)\n",
      "Trainable params: 18177 (71.00 KB)\n",
      "Non-trainable params: 0 (0.00 Byte)\n",
      "_________________________________________________________________\n"
     ]
    }
   ],
   "source": [
    "model.summary()"
   ]
  },
  {
   "cell_type": "code",
   "execution_count": 5,
   "id": "c2ead800-e02b-416f-877e-2acac93f96c7",
   "metadata": {},
   "outputs": [
    {
     "name": "stdout",
     "output_type": "stream",
     "text": [
      "Epoch 1/10\n",
      "225/225 [==============================] - 1s 4ms/step - loss: 0.4224 - accuracy: 0.8064 - val_loss: 0.3818 - val_accuracy: 0.8112\n",
      "Epoch 2/10\n",
      "225/225 [==============================] - 1s 3ms/step - loss: 0.4191 - accuracy: 0.8104 - val_loss: 0.3918 - val_accuracy: 0.8100\n",
      "Epoch 3/10\n",
      "225/225 [==============================] - 1s 3ms/step - loss: 0.4134 - accuracy: 0.8154 - val_loss: 0.3565 - val_accuracy: 0.8325\n",
      "Epoch 4/10\n",
      "225/225 [==============================] - 1s 2ms/step - loss: 0.4043 - accuracy: 0.8167 - val_loss: 0.3653 - val_accuracy: 0.8188\n",
      "Epoch 5/10\n",
      "225/225 [==============================] - 1s 3ms/step - loss: 0.3995 - accuracy: 0.8199 - val_loss: 0.3788 - val_accuracy: 0.8288\n",
      "Epoch 6/10\n",
      "225/225 [==============================] - 1s 3ms/step - loss: 0.4004 - accuracy: 0.8144 - val_loss: 0.3932 - val_accuracy: 0.8150\n",
      "Epoch 7/10\n",
      "225/225 [==============================] - 1s 3ms/step - loss: 0.3915 - accuracy: 0.8193 - val_loss: 0.3989 - val_accuracy: 0.7987\n",
      "Epoch 8/10\n",
      "225/225 [==============================] - 1s 3ms/step - loss: 0.3867 - accuracy: 0.8236 - val_loss: 0.3792 - val_accuracy: 0.8188\n",
      "Epoch 9/10\n",
      "225/225 [==============================] - 1s 3ms/step - loss: 0.3844 - accuracy: 0.8267 - val_loss: 0.4256 - val_accuracy: 0.7912\n",
      "Epoch 10/10\n",
      "225/225 [==============================] - 1s 3ms/step - loss: 0.3741 - accuracy: 0.8297 - val_loss: 0.4154 - val_accuracy: 0.8012\n"
     ]
    },
    {
     "data": {
      "text/plain": [
       "{'loss': [0.42239493131637573,\n",
       "  0.41910216212272644,\n",
       "  0.4134060740470886,\n",
       "  0.4043368995189667,\n",
       "  0.3995227813720703,\n",
       "  0.4004007577896118,\n",
       "  0.3915129005908966,\n",
       "  0.38665416836738586,\n",
       "  0.3843528926372528,\n",
       "  0.374055951833725],\n",
       " 'accuracy': [0.8063889145851135,\n",
       "  0.8104166388511658,\n",
       "  0.815416693687439,\n",
       "  0.8166666626930237,\n",
       "  0.819861114025116,\n",
       "  0.8144444227218628,\n",
       "  0.8193055391311646,\n",
       "  0.8236111402511597,\n",
       "  0.8266666531562805,\n",
       "  0.8297222256660461],\n",
       " 'val_loss': [0.38181713223457336,\n",
       "  0.39181339740753174,\n",
       "  0.3564709424972534,\n",
       "  0.36526256799697876,\n",
       "  0.37879326939582825,\n",
       "  0.3932056725025177,\n",
       "  0.39892756938934326,\n",
       "  0.37916895747184753,\n",
       "  0.4255577027797699,\n",
       "  0.41539236903190613],\n",
       " 'val_accuracy': [0.8112499713897705,\n",
       "  0.8100000023841858,\n",
       "  0.8324999809265137,\n",
       "  0.8187500238418579,\n",
       "  0.8287500143051147,\n",
       "  0.8149999976158142,\n",
       "  0.7987499833106995,\n",
       "  0.8187500238418579,\n",
       "  0.7912499904632568,\n",
       "  0.8012499809265137]}"
      ]
     },
     "execution_count": 5,
     "metadata": {},
     "output_type": "execute_result"
    }
   ],
   "source": [
    "history = model.fit(x_train, y_train, batch_size = 32, epochs = 10, class_weight = class_weight, validation_split = 0.1)\n",
    "\n",
    "history.history\n"
   ]
  },
  {
   "cell_type": "code",
   "execution_count": 6,
   "id": "edd7bcf8-a127-48af-abdd-e218d7434baa",
   "metadata": {},
   "outputs": [
    {
     "name": "stdout",
     "output_type": "stream",
     "text": [
      "Model: \"sequential_1\"\n",
      "_________________________________________________________________\n",
      " Layer (type)                Output Shape              Param #   \n",
      "=================================================================\n",
      " dense_3 (Dense)             (None, 128)               1536      \n",
      "                                                                 \n",
      " dense_4 (Dense)             (None, 128)               16512     \n",
      "                                                                 \n",
      " dense_5 (Dense)             (None, 1)                 129       \n",
      "                                                                 \n",
      "=================================================================\n",
      "Total params: 18177 (71.00 KB)\n",
      "Trainable params: 18177 (71.00 KB)\n",
      "Non-trainable params: 0 (0.00 Byte)\n",
      "_________________________________________________________________\n"
     ]
    }
   ],
   "source": [
    "model.summary()"
   ]
  },
  {
   "cell_type": "code",
   "execution_count": 7,
   "id": "0e99563d-2b8e-49b0-ac83-53d110284bca",
   "metadata": {},
   "outputs": [
    {
     "data": {
      "image/png": "[encoded data removed]",
      "text/plain": [
       "<Figure size 640x480 with 1 Axes>"
      ]
     },
     "metadata": {},
     "output_type": "display_data"
    }
   ],
   "source": [
    "hist = pd.DataFrame(history.history)\n",
    "hist\n",
    "\n",
    "hist.plot()\n",
    "plt.grid()"
   ]
  },
  {
   "cell_type": "code",
   "execution_count": 8,
   "id": "ba14bd5a-7f5c-4ce8-b660-3801a333ad6f",
   "metadata": {},
   "outputs": [
    {
     "name": "stdout",
     "output_type": "stream",
     "text": [
      "63/63 [==============================] - 0s 2ms/step\n",
      "              precision    recall  f1-score   support\n",
      "\n",
      "           0       0.92      0.78      0.84      1593\n",
      "           1       0.46      0.74      0.57       407\n",
      "\n",
      "    accuracy                           0.77      2000\n",
      "   macro avg       0.69      0.76      0.71      2000\n",
      "weighted avg       0.83      0.77      0.79      2000\n",
      "\n"
     ]
    }
   ],
   "source": [
    "from sklearn.metrics import classification_report\n",
    "\n",
    "y_pred = model.predict(x_test)\n",
    "y_pred\n",
    "\n",
    "y_pred = (y_pred > 0.5).astype(int)\n",
    "\n",
    "print(classification_report(y_test, y_pred))"
   ]
  },
  {
   "cell_type": "markdown",
   "id": "b706a177-0a64-4383-8dac-1d9a5cd54c55",
   "metadata": {},
   "source": [
    "###\n",
    "## Model Save and Load\n",
    "###"
   ]
  },
  {
   "cell_type": "code",
   "execution_count": 27,
   "id": "0e678d30-e45d-4b34-b2ff-135f5dd258d5",
   "metadata": {},
   "outputs": [],
   "source": [
    "import pickle\n",
    "import os\n",
    "\n",
    "os.makedirs('model', exist_ok = True)"
   ]
  },
  {
   "cell_type": "code",
   "execution_count": 38,
   "id": "6e619a07-08dd-46b1-8082-3c76ee4efd63",
   "metadata": {},
   "outputs": [],
   "source": [
    "model.save('model/model_churn.keras')"
   ]
  },
  {
   "cell_type": "code",
   "execution_count": 40,
   "id": "9b9cc59a-77a8-4c43-8761-1f37eda3e33d",
   "metadata": {},
   "outputs": [
    {
     "name": "stdout",
     "output_type": "stream",
     "text": [
      "Model: \"sequential_1\"\n",
      "_________________________________________________________________\n",
      " Layer (type)                Output Shape              Param #   \n",
      "=================================================================\n",
      " dense_3 (Dense)             (None, 128)               1536      \n",
      "                                                                 \n",
      " dense_4 (Dense)             (None, 128)               16512     \n",
      "                                                                 \n",
      " dense_5 (Dense)             (None, 1)                 129       \n",
      "                                                                 \n",
      "=================================================================\n",
      "Total params: 18177 (71.00 KB)\n",
      "Trainable params: 18177 (71.00 KB)\n",
      "Non-trainable params: 0 (0.00 Byte)\n",
      "_________________________________________________________________\n"
     ]
    }
   ],
   "source": [
    "model.summary()"
   ]
  },
  {
   "cell_type": "code",
   "execution_count": 43,
   "id": "169b125b-7422-46dd-914b-6bbcf9e16f60",
   "metadata": {},
   "outputs": [],
   "source": [
    "pickle.dump(scaler, open('model/scaler.pkl', 'wb'))"
   ]
  },
  {
   "cell_type": "code",
   "execution_count": 41,
   "id": "d98e3895-da60-4d70-b61d-52f95e043386",
   "metadata": {},
   "outputs": [
    {
     "name": "stdout",
     "output_type": "stream",
     "text": [
      "Model: \"sequential\"\n",
      "_________________________________________________________________\n",
      " Layer (type)                Output Shape              Param #   \n",
      "=================================================================\n",
      " dense (Dense)               (None, 128)               1536      \n",
      "                                                                 \n",
      " dense_1 (Dense)             (None, 128)               16512     \n",
      "                                                                 \n",
      " dense_2 (Dense)             (None, 1)                 129       \n",
      "                                                                 \n",
      "=================================================================\n",
      "Total params: 18177 (71.00 KB)\n",
      "Trainable params: 18177 (71.00 KB)\n",
      "Non-trainable params: 0 (0.00 Byte)\n",
      "_________________________________________________________________\n"
     ]
    }
   ],
   "source": [
    "from tensorflow.keras.models import load_model\n",
    "\n",
    "saved_model = load_model('model_churn.keras')\n",
    "saved_model.summary()"
   ]
  },
  {
   "cell_type": "code",
   "execution_count": 42,
   "id": "20eac691-6b75-44ce-a541-4cf70c15c487",
   "metadata": {},
   "outputs": [
    {
     "name": "stdout",
     "output_type": "stream",
     "text": [
      "Model: \"sequential\"\n",
      "_________________________________________________________________\n",
      " Layer (type)                Output Shape              Param #   \n",
      "=================================================================\n",
      " dense (Dense)               (None, 128)               1536      \n",
      "                                                                 \n",
      " dense_1 (Dense)             (None, 128)               16512     \n",
      "                                                                 \n",
      " dense_2 (Dense)             (None, 1)                 129       \n",
      "                                                                 \n",
      "=================================================================\n",
      "Total params: 18177 (71.00 KB)\n",
      "Trainable params: 18177 (71.00 KB)\n",
      "Non-trainable params: 0 (0.00 Byte)\n",
      "_________________________________________________________________\n"
     ]
    }
   ],
   "source": [
    "xyz = keras.models.load_model('model_churn.keras')\n",
    "xyz.summary()"
   ]
  },
  {
   "cell_type": "code",
   "execution_count": 54,
   "id": "52940b40-5200-43c6-b557-83020ff9516a",
   "metadata": {},
   "outputs": [
    {
     "data": {
      "text/html": [
       "<div>\n",
       "<style scoped>\n",
       "    .dataframe tbody tr th:only-of-type {\n",
       "        vertical-align: middle;\n",
       "    }\n",
       "\n",
       "    .dataframe tbody tr th {\n",
       "        vertical-align: top;\n",
       "    }\n",
       "\n",
       "    .dataframe thead th {\n",
       "        text-align: right;\n",
       "    }\n",
       "</style>\n",
       "<table border=\"1\" class=\"dataframe\">\n",
       "  <thead>\n",
       "    <tr style=\"text-align: right;\">\n",
       "      <th></th>\n",
       "      <th>CreditScore</th>\n",
       "      <th>Age</th>\n",
       "      <th>Tenure</th>\n",
       "      <th>Balance</th>\n",
       "      <th>NumOfProducts</th>\n",
       "      <th>HasCrCard</th>\n",
       "      <th>IsActiveMember</th>\n",
       "      <th>EstimatedSalary</th>\n",
       "      <th>Geography_Germany</th>\n",
       "      <th>Geography_Spain</th>\n",
       "      <th>Gender_Male</th>\n",
       "    </tr>\n",
       "  </thead>\n",
       "  <tbody>\n",
       "    <tr>\n",
       "      <th>0</th>\n",
       "      <td>619</td>\n",
       "      <td>42</td>\n",
       "      <td>2</td>\n",
       "      <td>0.0</td>\n",
       "      <td>1</td>\n",
       "      <td>1</td>\n",
       "      <td>1</td>\n",
       "      <td>101348.88</td>\n",
       "      <td>False</td>\n",
       "      <td>False</td>\n",
       "      <td>False</td>\n",
       "    </tr>\n",
       "  </tbody>\n",
       "</table>\n",
       "</div>"
      ],
      "text/plain": [
       "   CreditScore  Age  Tenure  Balance  NumOfProducts  HasCrCard  \\\n",
       "0          619   42       2      0.0              1          1   \n",
       "\n",
       "   IsActiveMember  EstimatedSalary  Geography_Germany  Geography_Spain  \\\n",
       "0               1        101348.88              False            False   \n",
       "\n",
       "   Gender_Male  \n",
       "0        False  "
      ]
     },
     "execution_count": 54,
     "metadata": {},
     "output_type": "execute_result"
    }
   ],
   "source": [
    "x_onehot.head(1)"
   ]
  },
  {
   "cell_type": "code",
   "execution_count": 59,
   "id": "b06544e3-a408-4c27-af44-cc9387136add",
   "metadata": {},
   "outputs": [],
   "source": [
    "columns = x_onehot.columns"
   ]
  },
  {
   "cell_type": "code",
   "execution_count": 60,
   "id": "95861235-7f0c-4465-b29b-58d458061c0b",
   "metadata": {},
   "outputs": [],
   "source": [
    "pickle.dump(columns, open('model/imp_columns.pkl', 'wb'))"
   ]
  },
  {
   "cell_type": "code",
   "execution_count": null,
   "id": "8d493896-c1fd-4ffa-bdda-e0ff5386d2b5",
   "metadata": {},
   "outputs": [],
   "source": []
  }
 ],
 "metadata": {
  "kernelspec": {
   "display_name": "Python (tf_env)",
   "language": "python",
   "name": "tf_env"
  },
  "language_info": {
   "codemirror_mode": {
    "name": "ipython",
    "version": 3
   },
   "file_extension": ".py",
   "mimetype": "text/x-python",
   "name": "python",
   "nbconvert_exporter": "python",
   "pygments_lexer": "ipython3",
   "version": "3.8.20"
  }
 },
 "nbformat": 4,
 "nbformat_minor": 5
}
