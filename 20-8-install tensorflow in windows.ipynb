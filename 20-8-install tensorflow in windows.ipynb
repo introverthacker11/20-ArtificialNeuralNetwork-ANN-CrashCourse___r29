{
 "cells": [
  {
   "cell_type": "code",
   "execution_count": 3,
   "id": "a5bbd81a-b803-4b85-b436-c45cb9b1cf40",
   "metadata": {},
   "outputs": [
    {
     "data": {
      "text/plain": [
       "'2.13.0'"
      ]
     },
     "execution_count": 3,
     "metadata": {},
     "output_type": "execute_result"
    }
   ],
   "source": [
    "import tensorflow as tf\n",
    "\n",
    "tf.__version__"
   ]
  },
  {
   "cell_type": "markdown",
   "id": "af19aec8-4ace-45ce-89e2-2a73735163bc",
   "metadata": {},
   "source": [
    "### Already Installed"
   ]
  },
  {
   "cell_type": "code",
   "execution_count": null,
   "id": "73f846a7-0393-4cb9-bb3d-e8c4cf850048",
   "metadata": {},
   "outputs": [],
   "source": []
  }
 ],
 "metadata": {
  "kernelspec": {
   "display_name": "Python (tf_env)",
   "language": "python",
   "name": "tf_env"
  },
  "language_info": {
   "codemirror_mode": {
    "name": "ipython",
    "version": 3
   },
   "file_extension": ".py",
   "mimetype": "text/x-python",
   "name": "python",
   "nbconvert_exporter": "python",
   "pygments_lexer": "ipython3",
   "version": "3.8.20"
  }
 },
 "nbformat": 4,
 "nbformat_minor": 5
}
