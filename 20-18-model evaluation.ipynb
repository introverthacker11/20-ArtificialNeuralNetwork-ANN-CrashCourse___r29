{
 "cells": [
  {
   "cell_type": "code",
   "execution_count": 1,
   "id": "5bf075aa-2771-444b-a9bb-fd00acf05ef4",
   "metadata": {},
   "outputs": [
    {
     "name": "stdout",
     "output_type": "stream",
     "text": [
      "Model: \"sequential\"\n",
      "_________________________________________________________________\n",
      " Layer (type)                Output Shape              Param #   \n",
      "=================================================================\n",
      " dense (Dense)               (None, 128)               1536      \n",
      "                                                                 \n",
      " dense_1 (Dense)             (None, 128)               16512     \n",
      "                                                                 \n",
      " dense_2 (Dense)             (None, 1)                 129       \n",
      "                                                                 \n",
      "=================================================================\n",
      "Total params: 18177 (71.00 KB)\n",
      "Trainable params: 18177 (71.00 KB)\n",
      "Non-trainable params: 0 (0.00 Byte)\n",
      "_________________________________________________________________\n"
     ]
    }
   ],
   "source": [
    "import numpy as np\n",
    "import pandas as pd\n",
    "import matplotlib.pyplot as plt\n",
    "import seaborn as sns\n",
    "\n",
    "dataset = pd.read_csv('churndataset.csv')\n",
    "x = dataset.iloc[:,3:-1]\n",
    "y = dataset['Exited']\n",
    "dataset['Exited'].value_counts()\n",
    "dataset\n",
    "\n",
    "from sklearn.model_selection import train_test_split\n",
    "from sklearn.preprocessing import StandardScaler\n",
    "\n",
    "x_onehot = pd.get_dummies(x, drop_first = True)\n",
    "x_train, x_test, y_train, y_test = train_test_split(x_onehot,y,test_size=0.2,random_state=42, stratify=y)\n",
    "x_train.describe()\n",
    "\n",
    "scaler = StandardScaler()\n",
    "x_train = scaler.fit_transform(x_train)\n",
    "x_test = scaler.transform(x_test)\n",
    "\n",
    "import tensorflow as tf\n",
    "from tensorflow import keras\n",
    "from tensorflow.keras import Sequential\n",
    "from tensorflow.keras.layers import Flatten, Dense, InputLayer\n",
    "\n",
    "from tensorflow.keras.optimizers import Adam\n",
    "\n",
    "input_shape = x_train.shape[1:]\n",
    "class_weight = y.value_counts().to_dict()\n",
    "total_sample = sum(class_weight.values())\n",
    "class_weight = [total_sample/(len(class_weight)*class_weight[0]), total_sample/(len(class_weight)*class_weight[1])]\n",
    "class_weight\n",
    "\n",
    "model = Sequential()\n",
    "model.add(InputLayer(input_shape))\n",
    "model.add(Dense(128, activation = 'relu'))\n",
    "model.add(Dense(128, activation = 'relu'))\n",
    "model.add(Dense(1, activation = 'sigmoid'))\n",
    "\n",
    "model.summary()"
   ]
  },
  {
   "cell_type": "code",
   "execution_count": 2,
   "id": "be661b0d-68a4-43fb-952e-8a08449c3ba3",
   "metadata": {},
   "outputs": [
    {
     "name": "stdout",
     "output_type": "stream",
     "text": [
      "Epoch 1/10\n",
      "250/250 [==============================] - 2s 3ms/step - loss: 0.5628 - accuracy: 0.7082\n",
      "Epoch 2/10\n",
      "250/250 [==============================] - 1s 2ms/step - loss: 0.4861 - accuracy: 0.7707\n",
      "Epoch 3/10\n",
      "250/250 [==============================] - 1s 2ms/step - loss: 0.4664 - accuracy: 0.7803\n",
      "Epoch 4/10\n",
      "250/250 [==============================] - 1s 2ms/step - loss: 0.4575 - accuracy: 0.7883\n",
      "Epoch 5/10\n",
      "250/250 [==============================] - 1s 2ms/step - loss: 0.4508 - accuracy: 0.7900\n",
      "Epoch 6/10\n",
      "250/250 [==============================] - 1s 2ms/step - loss: 0.4463 - accuracy: 0.7891\n",
      "Epoch 7/10\n",
      "250/250 [==============================] - 1s 2ms/step - loss: 0.4399 - accuracy: 0.7976\n",
      "Epoch 8/10\n",
      "250/250 [==============================] - 1s 2ms/step - loss: 0.4346 - accuracy: 0.8014\n",
      "Epoch 9/10\n",
      "250/250 [==============================] - 1s 2ms/step - loss: 0.4289 - accuracy: 0.7996\n",
      "Epoch 10/10\n",
      "250/250 [==============================] - 1s 2ms/step - loss: 0.4226 - accuracy: 0.8049\n"
     ]
    },
    {
     "data": {
      "text/plain": [
       "{'loss': [0.5628405213356018,\n",
       "  0.48614099621772766,\n",
       "  0.4664093255996704,\n",
       "  0.45749253034591675,\n",
       "  0.45075905323028564,\n",
       "  0.44629544019699097,\n",
       "  0.4398716986179352,\n",
       "  0.4345852732658386,\n",
       "  0.4289371073246002,\n",
       "  0.42261749505996704],\n",
       " 'accuracy': [0.7082499861717224,\n",
       "  0.7707499861717224,\n",
       "  0.7802500128746033,\n",
       "  0.7882500290870667,\n",
       "  0.7900000214576721,\n",
       "  0.7891250252723694,\n",
       "  0.7976250052452087,\n",
       "  0.8013749718666077,\n",
       "  0.7996249794960022,\n",
       "  0.8048750162124634]}"
      ]
     },
     "execution_count": 2,
     "metadata": {},
     "output_type": "execute_result"
    }
   ],
   "source": [
    "model.compile(optimizer = Adam(learning_rate = 0.001), loss = 'binary_crossentropy', metrics = ['accuracy'])\n",
    "\n",
    "class_weight = {0 : 0.6279040562602034, 1 : 2.454590083456063}\n",
    "class_weight\n",
    "\n",
    "history = model.fit(x_train, y_train, batch_size = 32, epochs = 10, class_weight = class_weight)\n",
    "\n",
    "history.history\n"
   ]
  },
  {
   "cell_type": "code",
   "execution_count": 3,
   "id": "66ac422a-ac3d-46d2-bd4b-439cca931288",
   "metadata": {},
   "outputs": [
    {
     "name": "stdout",
     "output_type": "stream",
     "text": [
      "Model: \"sequential\"\n",
      "_________________________________________________________________\n",
      " Layer (type)                Output Shape              Param #   \n",
      "=================================================================\n",
      " dense (Dense)               (None, 128)               1536      \n",
      "                                                                 \n",
      " dense_1 (Dense)             (None, 128)               16512     \n",
      "                                                                 \n",
      " dense_2 (Dense)             (None, 1)                 129       \n",
      "                                                                 \n",
      "=================================================================\n",
      "Total params: 18177 (71.00 KB)\n",
      "Trainable params: 18177 (71.00 KB)\n",
      "Non-trainable params: 0 (0.00 Byte)\n",
      "_________________________________________________________________\n"
     ]
    }
   ],
   "source": [
    "model.summary()"
   ]
  },
  {
   "cell_type": "code",
   "execution_count": 4,
   "id": "cbdafea0-d2c0-4118-87f2-294cd00ae427",
   "metadata": {},
   "outputs": [
    {
     "name": "stdout",
     "output_type": "stream",
     "text": [
      "Epoch 1/10\n",
      "225/225 [==============================] - 1s 4ms/step - loss: 0.4248 - accuracy: 0.8032 - val_loss: 0.3646 - val_accuracy: 0.8338\n",
      "Epoch 2/10\n",
      "225/225 [==============================] - 1s 2ms/step - loss: 0.4173 - accuracy: 0.8106 - val_loss: 0.4564 - val_accuracy: 0.7887\n",
      "Epoch 3/10\n",
      "225/225 [==============================] - 1s 3ms/step - loss: 0.4166 - accuracy: 0.8078 - val_loss: 0.3824 - val_accuracy: 0.8125\n",
      "Epoch 4/10\n",
      "225/225 [==============================] - 1s 4ms/step - loss: 0.4113 - accuracy: 0.8110 - val_loss: 0.4181 - val_accuracy: 0.8075\n",
      "Epoch 5/10\n",
      "225/225 [==============================] - 1s 4ms/step - loss: 0.4029 - accuracy: 0.8142 - val_loss: 0.3520 - val_accuracy: 0.8400\n",
      "Epoch 6/10\n",
      "225/225 [==============================] - 1s 4ms/step - loss: 0.4015 - accuracy: 0.8179 - val_loss: 0.4192 - val_accuracy: 0.8025\n",
      "Epoch 7/10\n",
      "225/225 [==============================] - 1s 4ms/step - loss: 0.3952 - accuracy: 0.8146 - val_loss: 0.3642 - val_accuracy: 0.8338\n",
      "Epoch 8/10\n",
      "225/225 [==============================] - 1s 3ms/step - loss: 0.3881 - accuracy: 0.8236 - val_loss: 0.4122 - val_accuracy: 0.8062\n",
      "Epoch 9/10\n",
      "225/225 [==============================] - 1s 4ms/step - loss: 0.3822 - accuracy: 0.8260 - val_loss: 0.3971 - val_accuracy: 0.8175\n",
      "Epoch 10/10\n",
      "225/225 [==============================] - 1s 4ms/step - loss: 0.3788 - accuracy: 0.8254 - val_loss: 0.3956 - val_accuracy: 0.8112\n"
     ]
    },
    {
     "data": {
      "text/plain": [
       "{'loss': [0.42484548687934875,\n",
       "  0.41730397939682007,\n",
       "  0.4165709316730499,\n",
       "  0.41126006841659546,\n",
       "  0.4029083847999573,\n",
       "  0.4015485644340515,\n",
       "  0.3951602876186371,\n",
       "  0.3881193995475769,\n",
       "  0.382219523191452,\n",
       "  0.37879088521003723],\n",
       " 'accuracy': [0.8031944632530212,\n",
       "  0.8105555772781372,\n",
       "  0.8077777624130249,\n",
       "  0.8109722137451172,\n",
       "  0.8141666650772095,\n",
       "  0.8179166913032532,\n",
       "  0.8145833611488342,\n",
       "  0.8236111402511597,\n",
       "  0.8259721994400024,\n",
       "  0.8254166841506958],\n",
       " 'val_loss': [0.3645767271518707,\n",
       "  0.45640555024147034,\n",
       "  0.38243648409843445,\n",
       "  0.418089896440506,\n",
       "  0.3520422875881195,\n",
       "  0.4191626310348511,\n",
       "  0.36419689655303955,\n",
       "  0.41220778226852417,\n",
       "  0.3971320688724518,\n",
       "  0.39558038115501404],\n",
       " 'val_accuracy': [0.8337500095367432,\n",
       "  0.7887499928474426,\n",
       "  0.8125,\n",
       "  0.8075000047683716,\n",
       "  0.8399999737739563,\n",
       "  0.8025000095367432,\n",
       "  0.8337500095367432,\n",
       "  0.8062499761581421,\n",
       "  0.8174999952316284,\n",
       "  0.8112499713897705]}"
      ]
     },
     "execution_count": 4,
     "metadata": {},
     "output_type": "execute_result"
    }
   ],
   "source": [
    "history = model.fit(x_train, y_train, batch_size = 32, epochs = 10, class_weight = class_weight, validation_split = 0.1)\n",
    "\n",
    "history.history\n"
   ]
  },
  {
   "cell_type": "code",
   "execution_count": 5,
   "id": "b49b6966-c0d2-4b09-b606-7127387e57f0",
   "metadata": {},
   "outputs": [
    {
     "name": "stdout",
     "output_type": "stream",
     "text": [
      "Model: \"sequential\"\n",
      "_________________________________________________________________\n",
      " Layer (type)                Output Shape              Param #   \n",
      "=================================================================\n",
      " dense (Dense)               (None, 128)               1536      \n",
      "                                                                 \n",
      " dense_1 (Dense)             (None, 128)               16512     \n",
      "                                                                 \n",
      " dense_2 (Dense)             (None, 1)                 129       \n",
      "                                                                 \n",
      "=================================================================\n",
      "Total params: 18177 (71.00 KB)\n",
      "Trainable params: 18177 (71.00 KB)\n",
      "Non-trainable params: 0 (0.00 Byte)\n",
      "_________________________________________________________________\n"
     ]
    }
   ],
   "source": [
    "model.summary()"
   ]
  },
  {
   "cell_type": "code",
   "execution_count": 6,
   "id": "5463ced4-3669-44b3-bcaa-3f45a408cf2d",
   "metadata": {},
   "outputs": [
    {
     "data": {
      "image/png": "[encoded data removed]",
      "text/plain": [
       "<Figure size 640x480 with 1 Axes>"
      ]
     },
     "metadata": {},
     "output_type": "display_data"
    }
   ],
   "source": [
    "hist = pd.DataFrame(history.history)\n",
    "hist\n",
    "\n",
    "hist.plot()\n",
    "plt.grid()"
   ]
  },
  {
   "cell_type": "markdown",
   "id": "aa68bc76-a144-4045-ae94-55905b451766",
   "metadata": {},
   "source": [
    "###\n",
    "## Model Evaluation\n",
    "###"
   ]
  },
  {
   "cell_type": "code",
   "execution_count": 7,
   "id": "5fdb9c12-cf93-434a-a281-d954b11e2e4f",
   "metadata": {},
   "outputs": [],
   "source": [
    "from sklearn.metrics import classification_report"
   ]
  },
  {
   "cell_type": "code",
   "execution_count": 8,
   "id": "6fb03d7d-b7c7-44f2-9d79-18cc6f92a2c2",
   "metadata": {},
   "outputs": [
    {
     "name": "stdout",
     "output_type": "stream",
     "text": [
      "63/63 [==============================] - 0s 2ms/step\n"
     ]
    }
   ],
   "source": [
    "y_pred = model.predict(x_test)"
   ]
  },
  {
   "cell_type": "code",
   "execution_count": 9,
   "id": "89f8c67d-29e9-4dee-b522-35fd5c201dc3",
   "metadata": {},
   "outputs": [
    {
     "data": {
      "text/plain": [
       "array([[0.03170345],\n",
       "       [0.10882159],\n",
       "       [0.04684498],\n",
       "       ...,\n",
       "       [0.92714554],\n",
       "       [0.01257451],\n",
       "       [0.34206754]], dtype=float32)"
      ]
     },
     "execution_count": 9,
     "metadata": {},
     "output_type": "execute_result"
    }
   ],
   "source": [
    "y_pred"
   ]
  },
  {
   "cell_type": "code",
   "execution_count": 10,
   "id": "56157b4f-44cb-4259-bc1e-a2fc7705efa5",
   "metadata": {},
   "outputs": [],
   "source": [
    "y_pred = (y_pred > 0.5).astype(int)"
   ]
  },
  {
   "cell_type": "code",
   "execution_count": 11,
   "id": "7653780e-c9f3-40dd-ab65-bde503796fe5",
   "metadata": {},
   "outputs": [
    {
     "data": {
      "text/plain": [
       "array([[0],\n",
       "       [0],\n",
       "       [0],\n",
       "       ...,\n",
       "       [1],\n",
       "       [0],\n",
       "       [0]])"
      ]
     },
     "execution_count": 11,
     "metadata": {},
     "output_type": "execute_result"
    }
   ],
   "source": [
    "y_pred"
   ]
  },
  {
   "cell_type": "code",
   "execution_count": 12,
   "id": "68ea0d68-75e0-45d4-b3fd-b38d44f3defa",
   "metadata": {},
   "outputs": [
    {
     "name": "stdout",
     "output_type": "stream",
     "text": [
      "              precision    recall  f1-score   support\n",
      "\n",
      "           0       0.92      0.80      0.86      1593\n",
      "           1       0.48      0.72      0.58       407\n",
      "\n",
      "    accuracy                           0.79      2000\n",
      "   macro avg       0.70      0.76      0.72      2000\n",
      "weighted avg       0.83      0.79      0.80      2000\n",
      "\n"
     ]
    }
   ],
   "source": [
    "print(classification_report(y_test, y_pred))"
   ]
  },
  {
   "cell_type": "code",
   "execution_count": null,
   "id": "795ad04e-aa02-4e1c-b7a2-66b66fca06c7",
   "metadata": {},
   "outputs": [],
   "source": []
  }
 ],
 "metadata": {
  "kernelspec": {
   "display_name": "Python (tf_env)",
   "language": "python",
   "name": "tf_env"
  },
  "language_info": {
   "codemirror_mode": {
    "name": "ipython",
    "version": 3
   },
   "file_extension": ".py",
   "mimetype": "text/x-python",
   "name": "python",
   "nbconvert_exporter": "python",
   "pygments_lexer": "ipython3",
   "version": "3.8.20"
  }
 },
 "nbformat": 4,
 "nbformat_minor": 5
}
