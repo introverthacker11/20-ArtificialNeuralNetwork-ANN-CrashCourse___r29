{
 "cells": [
  {
   "cell_type": "markdown",
   "id": "d444fa20-19be-480e-9dc7-2a0acf57bdce",
   "metadata": {},
   "source": [
    "###\n",
    "## Have Windows\n",
    "###"
   ]
  }
 ],
 "metadata": {
  "kernelspec": {
   "display_name": "Python (tf_env)",
   "language": "python",
   "name": "tf_env"
  },
  "language_info": {
   "codemirror_mode": {
    "name": "ipython",
    "version": 3
   },
   "file_extension": ".py",
   "mimetype": "text/x-python",
   "name": "python",
   "nbconvert_exporter": "python",
   "pygments_lexer": "ipython3",
   "version": "3.8.20"
  }
 },
 "nbformat": 4,
 "nbformat_minor": 5
}
