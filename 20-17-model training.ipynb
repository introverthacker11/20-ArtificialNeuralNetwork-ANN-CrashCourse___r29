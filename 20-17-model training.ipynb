{
 "cells": [
  {
   "cell_type": "code",
   "execution_count": 1,
   "id": "01c95e8e-289e-4e62-9144-21f89f933fb9",
   "metadata": {},
   "outputs": [
    {
     "name": "stdout",
     "output_type": "stream",
     "text": [
      "Model: \"sequential\"\n",
      "_________________________________________________________________\n",
      " Layer (type)                Output Shape              Param #   \n",
      "=================================================================\n",
      " dense (Dense)               (None, 128)               1536      \n",
      "                                                                 \n",
      " dense_1 (Dense)             (None, 128)               16512     \n",
      "                                                                 \n",
      " dense_2 (Dense)             (None, 1)                 129       \n",
      "                                                                 \n",
      "=================================================================\n",
      "Total params: 18177 (71.00 KB)\n",
      "Trainable params: 18177 (71.00 KB)\n",
      "Non-trainable params: 0 (0.00 Byte)\n",
      "_________________________________________________________________\n"
     ]
    }
   ],
   "source": [
    "import numpy as np\n",
    "import pandas as pd\n",
    "import matplotlib.pyplot as plt\n",
    "import seaborn as sns\n",
    "\n",
    "dataset = pd.read_csv('churndataset.csv')\n",
    "x = dataset.iloc[:,3:-1]\n",
    "y = dataset['Exited']\n",
    "dataset['Exited'].value_counts()\n",
    "dataset\n",
    "\n",
    "from sklearn.model_selection import train_test_split\n",
    "from sklearn.preprocessing import StandardScaler\n",
    "\n",
    "x_onehot = pd.get_dummies(x, drop_first = True)\n",
    "x_train, x_test, y_train, y_test = train_test_split(x_onehot,y,test_size=0.2,random_state=42, stratify=y)\n",
    "x_train.describe()\n",
    "\n",
    "scaler = StandardScaler()\n",
    "x_train = scaler.fit_transform(x_train)\n",
    "x_test = scaler.transform(x_test)\n",
    "\n",
    "import tensorflow as tf\n",
    "from tensorflow import keras\n",
    "from tensorflow.keras import Sequential\n",
    "from tensorflow.keras.layers import Flatten, Dense, InputLayer\n",
    "\n",
    "from tensorflow.keras.optimizers import Adam\n",
    "\n",
    "input_shape = x_train.shape[1:]\n",
    "class_weight = y.value_counts().to_dict()\n",
    "total_sample = sum(class_weight.values())\n",
    "class_weight = [total_sample/(len(class_weight)*class_weight[0]), total_sample/(len(class_weight)*class_weight[1])]\n",
    "class_weight\n",
    "\n",
    "model = Sequential()\n",
    "model.add(InputLayer(input_shape))\n",
    "model.add(Dense(128, activation = 'relu'))\n",
    "model.add(Dense(128, activation = 'relu'))\n",
    "model.add(Dense(1, activation = 'sigmoid'))\n",
    "\n",
    "model.summary()"
   ]
  },
  {
   "cell_type": "code",
   "execution_count": 14,
   "id": "0f754dd4-092b-4b19-9976-c0655e2b71b7",
   "metadata": {},
   "outputs": [],
   "source": [
    "model.compile(optimizer = Adam(learning_rate = 0.001), loss = 'binary_crossentropy', metrics = ['accuracy'])"
   ]
  },
  {
   "cell_type": "code",
   "execution_count": 11,
   "id": "8a6371f0-8895-4e39-9839-5980774159e9",
   "metadata": {},
   "outputs": [
    {
     "data": {
      "text/plain": [
       "{0: 0.6279040562602034, 1: 2.454590083456063}"
      ]
     },
     "execution_count": 11,
     "metadata": {},
     "output_type": "execute_result"
    }
   ],
   "source": [
    "class_weight = {0 : 0.6279040562602034, 1 : 2.454590083456063}\n",
    "class_weight"
   ]
  },
  {
   "cell_type": "code",
   "execution_count": 40,
   "id": "327bd085-9944-4efb-b37b-50291343f22d",
   "metadata": {},
   "outputs": [
    {
     "name": "stdout",
     "output_type": "stream",
     "text": [
      "Epoch 1/10\n",
      "250/250 [==============================] - 1s 4ms/step - loss: 0.2974 - accuracy: 0.8625\n",
      "Epoch 2/10\n",
      "250/250 [==============================] - 1s 3ms/step - loss: 0.2901 - accuracy: 0.8659\n",
      "Epoch 3/10\n",
      "250/250 [==============================] - 1s 3ms/step - loss: 0.2862 - accuracy: 0.8634\n",
      "Epoch 4/10\n",
      "250/250 [==============================] - 1s 4ms/step - loss: 0.2847 - accuracy: 0.8681\n",
      "Epoch 5/10\n",
      "250/250 [==============================] - 1s 3ms/step - loss: 0.2744 - accuracy: 0.8741\n",
      "Epoch 6/10\n",
      "250/250 [==============================] - 1s 3ms/step - loss: 0.2741 - accuracy: 0.8724\n",
      "Epoch 7/10\n",
      "250/250 [==============================] - 1s 3ms/step - loss: 0.2693 - accuracy: 0.8709\n",
      "Epoch 8/10\n",
      "250/250 [==============================] - 1s 3ms/step - loss: 0.2674 - accuracy: 0.8770\n",
      "Epoch 9/10\n",
      "250/250 [==============================] - 1s 3ms/step - loss: 0.2627 - accuracy: 0.8804\n",
      "Epoch 10/10\n",
      "250/250 [==============================] - 1s 3ms/step - loss: 0.2564 - accuracy: 0.8804\n"
     ]
    }
   ],
   "source": [
    "history = model.fit(x_train, y_train, batch_size = 32, epochs = 10, class_weight = class_weight)"
   ]
  },
  {
   "cell_type": "code",
   "execution_count": 41,
   "id": "a7e78a0d-fe6c-4773-a150-571e7ef05e21",
   "metadata": {},
   "outputs": [
    {
     "data": {
      "text/plain": [
       "{'loss': [0.2973540425300598,\n",
       "  0.2900655269622803,\n",
       "  0.2862280607223511,\n",
       "  0.2846950590610504,\n",
       "  0.274363249540329,\n",
       "  0.2741367518901825,\n",
       "  0.26931485533714294,\n",
       "  0.2674426734447479,\n",
       "  0.26271700859069824,\n",
       "  0.2563552260398865],\n",
       " 'accuracy': [0.862500011920929,\n",
       "  0.8658750057220459,\n",
       "  0.8633750081062317,\n",
       "  0.8681250214576721,\n",
       "  0.8741250038146973,\n",
       "  0.8723750114440918,\n",
       "  0.8708750009536743,\n",
       "  0.8769999742507935,\n",
       "  0.8803750276565552,\n",
       "  0.8803750276565552]}"
      ]
     },
     "execution_count": 41,
     "metadata": {},
     "output_type": "execute_result"
    }
   ],
   "source": [
    "history.history"
   ]
  },
  {
   "cell_type": "code",
   "execution_count": 22,
   "id": "d173e02f-1256-47ed-9b0c-d641c499d040",
   "metadata": {},
   "outputs": [
    {
     "name": "stdout",
     "output_type": "stream",
     "text": [
      "Epoch 1/10\n",
      "225/225 [==============================] - 1s 4ms/step - loss: 0.3393 - accuracy: 0.8424 - val_loss: 0.2908 - val_accuracy: 0.8625\n",
      "Epoch 2/10\n",
      "225/225 [==============================] - 1s 4ms/step - loss: 0.3263 - accuracy: 0.8485 - val_loss: 0.3585 - val_accuracy: 0.8338\n",
      "Epoch 3/10\n",
      "225/225 [==============================] - 1s 3ms/step - loss: 0.3248 - accuracy: 0.8467 - val_loss: 0.3602 - val_accuracy: 0.8250\n",
      "Epoch 4/10\n",
      "225/225 [==============================] - 1s 3ms/step - loss: 0.3165 - accuracy: 0.8503 - val_loss: 0.3318 - val_accuracy: 0.8487\n",
      "Epoch 5/10\n",
      "225/225 [==============================] - 1s 4ms/step - loss: 0.3135 - accuracy: 0.8536 - val_loss: 0.3528 - val_accuracy: 0.8225\n",
      "Epoch 6/10\n",
      "225/225 [==============================] - 1s 4ms/step - loss: 0.3068 - accuracy: 0.8558 - val_loss: 0.3537 - val_accuracy: 0.8338\n",
      "Epoch 7/10\n",
      "225/225 [==============================] - 1s 4ms/step - loss: 0.3069 - accuracy: 0.8590 - val_loss: 0.4483 - val_accuracy: 0.7812\n",
      "Epoch 8/10\n",
      "225/225 [==============================] - 1s 3ms/step - loss: 0.3031 - accuracy: 0.8624 - val_loss: 0.3222 - val_accuracy: 0.8413\n",
      "Epoch 9/10\n",
      "225/225 [==============================] - 1s 2ms/step - loss: 0.2987 - accuracy: 0.8633 - val_loss: 0.3133 - val_accuracy: 0.8438\n",
      "Epoch 10/10\n",
      "225/225 [==============================] - 1s 2ms/step - loss: 0.2943 - accuracy: 0.8628 - val_loss: 0.3376 - val_accuracy: 0.8438\n"
     ]
    }
   ],
   "source": [
    "history = model.fit(x_train, y_train, batch_size = 32, epochs = 10, class_weight = class_weight, validation_split = 0.1)"
   ]
  },
  {
   "cell_type": "code",
   "execution_count": 35,
   "id": "1fec6506-bb6c-4703-aae8-c8c376856e85",
   "metadata": {},
   "outputs": [
    {
     "data": {
      "text/plain": [
       "{'loss': [0.33931392431259155,\n",
       "  0.3262852728366852,\n",
       "  0.32479557394981384,\n",
       "  0.31648752093315125,\n",
       "  0.3135044276714325,\n",
       "  0.30675825476646423,\n",
       "  0.30687251687049866,\n",
       "  0.30312249064445496,\n",
       "  0.2986522316932678,\n",
       "  0.29427260160446167],\n",
       " 'accuracy': [0.8423610925674438,\n",
       "  0.8484722375869751,\n",
       "  0.846666693687439,\n",
       "  0.8502777814865112,\n",
       "  0.8536111116409302,\n",
       "  0.8558333516120911,\n",
       "  0.8590278029441833,\n",
       "  0.8623611330986023,\n",
       "  0.8633333444595337,\n",
       "  0.8627777695655823],\n",
       " 'val_loss': [0.2907716929912567,\n",
       "  0.3584846556186676,\n",
       "  0.3601973354816437,\n",
       "  0.33183181285858154,\n",
       "  0.3528106212615967,\n",
       "  0.353722482919693,\n",
       "  0.448272705078125,\n",
       "  0.32221904397010803,\n",
       "  0.313289612531662,\n",
       "  0.3375851809978485],\n",
       " 'val_accuracy': [0.862500011920929,\n",
       "  0.8337500095367432,\n",
       "  0.824999988079071,\n",
       "  0.8487499952316284,\n",
       "  0.8224999904632568,\n",
       "  0.8337500095367432,\n",
       "  0.78125,\n",
       "  0.8412500023841858,\n",
       "  0.84375,\n",
       "  0.84375]}"
      ]
     },
     "execution_count": 35,
     "metadata": {},
     "output_type": "execute_result"
    }
   ],
   "source": [
    "history.history"
   ]
  },
  {
   "cell_type": "code",
   "execution_count": 36,
   "id": "ea0fb4dd-6950-4995-a119-106def2739d9",
   "metadata": {},
   "outputs": [
    {
     "data": {
      "text/html": [
       "<div>\n",
       "<style scoped>\n",
       "    .dataframe tbody tr th:only-of-type {\n",
       "        vertical-align: middle;\n",
       "    }\n",
       "\n",
       "    .dataframe tbody tr th {\n",
       "        vertical-align: top;\n",
       "    }\n",
       "\n",
       "    .dataframe thead th {\n",
       "        text-align: right;\n",
       "    }\n",
       "</style>\n",
       "<table border=\"1\" class=\"dataframe\">\n",
       "  <thead>\n",
       "    <tr style=\"text-align: right;\">\n",
       "      <th></th>\n",
       "      <th>loss</th>\n",
       "      <th>accuracy</th>\n",
       "      <th>val_loss</th>\n",
       "      <th>val_accuracy</th>\n",
       "    </tr>\n",
       "  </thead>\n",
       "  <tbody>\n",
       "    <tr>\n",
       "      <th>0</th>\n",
       "      <td>0.339314</td>\n",
       "      <td>0.842361</td>\n",
       "      <td>0.290772</td>\n",
       "      <td>0.86250</td>\n",
       "    </tr>\n",
       "    <tr>\n",
       "      <th>1</th>\n",
       "      <td>0.326285</td>\n",
       "      <td>0.848472</td>\n",
       "      <td>0.358485</td>\n",
       "      <td>0.83375</td>\n",
       "    </tr>\n",
       "    <tr>\n",
       "      <th>2</th>\n",
       "      <td>0.324796</td>\n",
       "      <td>0.846667</td>\n",
       "      <td>0.360197</td>\n",
       "      <td>0.82500</td>\n",
       "    </tr>\n",
       "    <tr>\n",
       "      <th>3</th>\n",
       "      <td>0.316488</td>\n",
       "      <td>0.850278</td>\n",
       "      <td>0.331832</td>\n",
       "      <td>0.84875</td>\n",
       "    </tr>\n",
       "    <tr>\n",
       "      <th>4</th>\n",
       "      <td>0.313504</td>\n",
       "      <td>0.853611</td>\n",
       "      <td>0.352811</td>\n",
       "      <td>0.82250</td>\n",
       "    </tr>\n",
       "    <tr>\n",
       "      <th>5</th>\n",
       "      <td>0.306758</td>\n",
       "      <td>0.855833</td>\n",
       "      <td>0.353722</td>\n",
       "      <td>0.83375</td>\n",
       "    </tr>\n",
       "    <tr>\n",
       "      <th>6</th>\n",
       "      <td>0.306873</td>\n",
       "      <td>0.859028</td>\n",
       "      <td>0.448273</td>\n",
       "      <td>0.78125</td>\n",
       "    </tr>\n",
       "    <tr>\n",
       "      <th>7</th>\n",
       "      <td>0.303122</td>\n",
       "      <td>0.862361</td>\n",
       "      <td>0.322219</td>\n",
       "      <td>0.84125</td>\n",
       "    </tr>\n",
       "    <tr>\n",
       "      <th>8</th>\n",
       "      <td>0.298652</td>\n",
       "      <td>0.863333</td>\n",
       "      <td>0.313290</td>\n",
       "      <td>0.84375</td>\n",
       "    </tr>\n",
       "    <tr>\n",
       "      <th>9</th>\n",
       "      <td>0.294273</td>\n",
       "      <td>0.862778</td>\n",
       "      <td>0.337585</td>\n",
       "      <td>0.84375</td>\n",
       "    </tr>\n",
       "  </tbody>\n",
       "</table>\n",
       "</div>"
      ],
      "text/plain": [
       "       loss  accuracy  val_loss  val_accuracy\n",
       "0  0.339314  0.842361  0.290772       0.86250\n",
       "1  0.326285  0.848472  0.358485       0.83375\n",
       "2  0.324796  0.846667  0.360197       0.82500\n",
       "3  0.316488  0.850278  0.331832       0.84875\n",
       "4  0.313504  0.853611  0.352811       0.82250\n",
       "5  0.306758  0.855833  0.353722       0.83375\n",
       "6  0.306873  0.859028  0.448273       0.78125\n",
       "7  0.303122  0.862361  0.322219       0.84125\n",
       "8  0.298652  0.863333  0.313290       0.84375\n",
       "9  0.294273  0.862778  0.337585       0.84375"
      ]
     },
     "execution_count": 36,
     "metadata": {},
     "output_type": "execute_result"
    }
   ],
   "source": [
    "hist = pd.DataFrame(history.history)\n",
    "hist"
   ]
  },
  {
   "cell_type": "code",
   "execution_count": 38,
   "id": "0a9bb33d-c77a-41f0-a21b-c31bb321634c",
   "metadata": {},
   "outputs": [
    {
     "data": {
      "image/png": "[encoded data removed]",
      "text/plain": [
       "<Figure size 640x480 with 1 Axes>"
      ]
     },
     "metadata": {},
     "output_type": "display_data"
    }
   ],
   "source": [
    "hist.plot()\n",
    "plt.grid()\n"
   ]
  },
  {
   "cell_type": "code",
   "execution_count": 33,
   "id": "7484de0f-4350-4255-839b-c0507611691f",
   "metadata": {},
   "outputs": [
    {
     "name": "stdout",
     "output_type": "stream",
     "text": [
      "Model: \"sequential\"\n",
      "_________________________________________________________________\n",
      " Layer (type)                Output Shape              Param #   \n",
      "=================================================================\n",
      " dense (Dense)               (None, 128)               1536      \n",
      "                                                                 \n",
      " dense_1 (Dense)             (None, 128)               16512     \n",
      "                                                                 \n",
      " dense_2 (Dense)             (None, 1)                 129       \n",
      "                                                                 \n",
      "=================================================================\n",
      "Total params: 18177 (71.00 KB)\n",
      "Trainable params: 18177 (71.00 KB)\n",
      "Non-trainable params: 0 (0.00 Byte)\n",
      "_________________________________________________________________\n"
     ]
    }
   ],
   "source": [
    "model.summary()"
   ]
  },
  {
   "cell_type": "code",
   "execution_count": null,
   "id": "8d9f6d61-9669-4e03-815b-f52feb4bf59c",
   "metadata": {},
   "outputs": [],
   "source": []
  },
  {
   "cell_type": "code",
   "execution_count": null,
   "id": "d33d05d7-bade-4cc5-a194-39d5dde1d0bf",
   "metadata": {},
   "outputs": [],
   "source": []
  }
 ],
 "metadata": {
  "kernelspec": {
   "display_name": "Python (tf_env)",
   "language": "python",
   "name": "tf_env"
  },
  "language_info": {
   "codemirror_mode": {
    "name": "ipython",
    "version": 3
   },
   "file_extension": ".py",
   "mimetype": "text/x-python",
   "name": "python",
   "nbconvert_exporter": "python",
   "pygments_lexer": "ipython3",
   "version": "3.8.20"
  }
 },
 "nbformat": 4,
 "nbformat_minor": 5
}
