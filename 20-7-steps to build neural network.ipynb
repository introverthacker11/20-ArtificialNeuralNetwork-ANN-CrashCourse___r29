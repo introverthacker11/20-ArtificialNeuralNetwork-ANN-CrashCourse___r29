{
 "cells": [
  {
   "cell_type": "markdown",
   "id": "c5d0a59c",
   "metadata": {},
   "source": [
    "###\n",
    "## Steps for Building First ANN with TensorFlow\n",
    "\n",
    "TensorFlow: https://www.tensorflow.org/\n",
    "\n",
    "Keras: https://keras.io/\n",
    "\n",
    "- Data Preparation\n",
    "- Data Preprocessing\n",
    "- Add input layer\n",
    "- Random weights init\n",
    "- Add Hidden Layers\n",
    "- Select Optimizer, Loss, and Performance Metrics\n",
    "- Compile the model\n",
    "- Use model.fit to train the model\n",
    "- Evaluate the model\n",
    "- Adjust optimization parameters or model if needed"
   ]
  },
  {
   "cell_type": "code",
   "execution_count": 1,
   "id": "77f791d5",
   "metadata": {},
   "outputs": [
    {
     "name": "stdout",
     "output_type": "stream",
     "text": [
      "Hello World!@\n"
     ]
    }
   ],
   "source": [
    "print('Hello World!@')"
   ]
  },
  {
   "cell_type": "code",
   "execution_count": 2,
   "id": "83bcc334",
   "metadata": {},
   "outputs": [
    {
     "name": "stdout",
     "output_type": "stream",
     "text": [
      "TensorFlow Version:  2.13.0\n"
     ]
    }
   ],
   "source": [
    "import tensorflow as tf\n",
    "\n",
    "print('TensorFlow Version: ', tf.__version__)"
   ]
  },
  {
   "cell_type": "code",
   "execution_count": null,
   "id": "852c63e4-d0b4-46db-9420-c8b6899bece1",
   "metadata": {},
   "outputs": [],
   "source": []
  }
 ],
 "metadata": {
  "kernelspec": {
   "display_name": "Python (tf_env)",
   "language": "python",
   "name": "tf_env"
  },
  "language_info": {
   "codemirror_mode": {
    "name": "ipython",
    "version": 3
   },
   "file_extension": ".py",
   "mimetype": "text/x-python",
   "name": "python",
   "nbconvert_exporter": "python",
   "pygments_lexer": "ipython3",
   "version": "3.8.20"
  }
 },
 "nbformat": 4,
 "nbformat_minor": 5
}
